{
  "nbformat": 4,
  "nbformat_minor": 0,
  "metadata": {
    "colab": {
      "name": "Suhana Sundaram.ipynb",
      "provenance": []
    },
    "kernelspec": {
      "name": "python3",
      "display_name": "Python 3"
    },
    "language_info": {
      "name": "python"
    }
  },
  "cells": [
    {
      "cell_type": "code",
      "metadata": {
        "id": "3QcAS5mw4Ie3"
      },
      "source": [
        "from keras.datasets import mnist\n",
        "data = mnist.load_data()\n",
        "\n",
        "((x_train,y_train),(x_test,y_test))=data\n",
        "\n",
        "x_train =x_train.reshape((x_tain.shape[0],28*28)).astype('float32')\n",
        "x_test =x_test.reshape((x_test.shape[0],28*28)).astype('float32')\n",
        "\n",
        "x_train =x_train/225\n",
        "x_test =x_test/225\n",
        "\n",
        "from keras.utils import np_utils\n",
        "print(y_test.shape)\n",
        "y_train =np_utils.to_categoricaly(y_train)\n",
        "y_test =np_utils.to_categorically (y_test)\n",
        "num_classes=y_test.shape[1]\n",
        "print(y_test.shape)\n",
        "\n",
        "from keras.moodels import Sequential\n",
        "from keras.layers import Dense\n",
        "\n",
        "model =Squential()\n",
        "model.add(Dense(32,input_dim=28*28,activattion='relu'))\n",
        "model.add(Dense(64,activation='relu'))\n",
        "model.add(Dense(10,activation='softmax'))\n",
        "\n",
        "model.compile(loss='categorical_crossentropy',optimizer='adam',metrics=['accuracy'])\n",
        "\n",
        "model.summary()\n",
        "\n",
        "model.fit(x_train,y_train,epochs=10, batch-size=100)\n",
        "\n",
        "scores=model.evaluate(x_test,y_test)\n",
        "print(scores)\n",
        "\n"
      ],
      "execution_count": null,
      "outputs": []
    }
  ]
}